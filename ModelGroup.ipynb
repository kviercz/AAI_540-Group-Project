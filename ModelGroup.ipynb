{
 "cells": [
  {
   "cell_type": "markdown",
   "id": "476eccef-d5c3-4e9d-bf02-27b4bf1c6d44",
   "metadata": {},
   "source": [
    "# Model Versioning And Information\n",
    "This notebook is intended to track the model versions. This includes metrics on model performance, hyperparameters, algorithms used, and any additional information related to the training model. Due to limited resources in AWS, the models are not trained within AWS and are instead trained on local hardward. The information for the Model groups are generated from uploaded h5 files. "
   ]
  },
  {
   "cell_type": "code",
   "execution_count": 5,
   "id": "9a028a94-2fe5-4c6d-9dd6-7b5beb1f4bb0",
   "metadata": {},
   "outputs": [],
   "source": [
    "import boto3\n",
    "import os\n",
    "import sagemaker\n",
    "import pandas as pd \n",
    "import numpy as np \n",
    "import time"
   ]
  },
  {
   "cell_type": "code",
   "execution_count": 2,
   "id": "df61d4a2-f19b-4ea5-9c99-3f96c5cc8b60",
   "metadata": {},
   "outputs": [
    {
     "name": "stdout",
     "output_type": "stream",
     "text": [
      "s3://sagemaker-us-east-1-399018723364/group-5/models\n"
     ]
    }
   ],
   "source": [
    "sess = sagemaker.Session()\n",
    "bucket = sess.default_bucket()\n",
    "role = sagemaker.get_execution_role()\n",
    "region = boto3.Session().region_name\n",
    "account_id = boto3.client(\"sts\").get_caller_identity().get(\"Account\")\n",
    " \n",
    "sm = boto3.Session().client(service_name=\"sagemaker\", region_name=region)\n",
    "\n",
    "# Create s3 bucket for models\n",
    "s3_model_path = 's3://{}/group-5/models'.format(bucket)\n",
    "print(s3_model_path)"
   ]
  },
  {
   "cell_type": "code",
   "execution_count": 3,
   "id": "8b85d19b-ed29-474d-b262-f9e26ddd05eb",
   "metadata": {},
   "outputs": [
    {
     "name": "stdout",
     "output_type": "stream",
     "text": [
      "upload: ./fer_best_model.h5 to s3://sagemaker-us-east-1-399018723364/group-5/models/fer_best_model.h5\n"
     ]
    }
   ],
   "source": [
    "!aws s3 cp 'fer_best_model.h5' $s3_model_path/"
   ]
  },
  {
   "cell_type": "code",
   "execution_count": 6,
   "id": "99719ebe-084c-4f73-b425-9eb14b2db080",
   "metadata": {},
   "outputs": [
    {
     "name": "stdout",
     "output_type": "stream",
     "text": [
      "Creation of Model Package Group: {'ModelPackageGroupArn': 'arn:aws:sagemaker:us-east-1:399018723364:model-package-group/basic-cnn1738537479', 'ResponseMetadata': {'RequestId': '9ac1961e-65d7-4325-89db-aff845cbccd7', 'HTTPStatusCode': 200, 'HTTPHeaders': {'x-amzn-requestid': '9ac1961e-65d7-4325-89db-aff845cbccd7', 'content-type': 'application/x-amz-json-1.1', 'content-length': '107', 'date': 'Sun, 02 Feb 2025 23:04:38 GMT'}, 'RetryAttempts': 0}}\n"
     ]
    }
   ],
   "source": [
    "sagemaker_client = boto3.client('sagemaker')\n",
    "model_pacakge_group_name = \"basic-cnn\" + str(round(time.time()))\n",
    "model_pacakge_group_description = (\"Simple CNN model group for FER-2013 dataset\")\n",
    "\n",
    "# Create model package group\n",
    "response = sagemaker_client.create_model_package_group(\n",
    "    ModelPackageGroupName=model_pacakge_group_name,\n",
    "    ModelPackageGroupDescription=model_pacakge_group_description\n",
    ")\n",
    "\n",
    "print(f\"Creation of Model Package Group: {response}\")"
   ]
  },
  {
   "cell_type": "code",
   "execution_count": 10,
   "id": "4f183721-6784-4764-9589-b3a787c15e98",
   "metadata": {},
   "outputs": [
    {
     "name": "stdout",
     "output_type": "stream",
     "text": [
      "\n",
      "usage: aws [options] <command> <subcommand> [<subcommand> ...] [parameters]\n",
      "To see help text, you can run:\n",
      "\n",
      "  aws help\n",
      "  aws <command> help\n",
      "  aws <command> <subcommand> help\n",
      "\n",
      "aws: error: the following arguments are required: --repository-name\n",
      "\n"
     ]
    }
   ],
   "source": [
    "!aws ecr list-images --region us-east-1"
   ]
  },
  {
   "cell_type": "code",
   "execution_count": 15,
   "id": "ac0e879e-ce81-4027-bc01-290c0fd99268",
   "metadata": {},
   "outputs": [
    {
     "name": "stdout",
     "output_type": "stream",
     "text": [
      "{'ModelPackageArn': 'arn:aws:sagemaker:us-east-1:399018723364:model-package/v1-basic-fer-cnn', 'ResponseMetadata': {'RequestId': '03feab7f-3917-440a-96a7-93d8f7b551bd', 'HTTPStatusCode': 200, 'HTTPHeaders': {'x-amzn-requestid': '03feab7f-3917-440a-96a7-93d8f7b551bd', 'content-type': 'application/x-amz-json-1.1', 'content-length': '93', 'date': 'Sun, 02 Feb 2025 23:25:00 GMT'}, 'RetryAttempts': 0}}\n"
     ]
    }
   ],
   "source": [
    "# Define model and version info\n",
    "s3_model_path = f's3://sagemaker-us-east-1-399018723364/group-5/models/fer_best_model.h5'\n",
    "# Create model package for versioning\n",
    "model_package_name = 'v1-basic-fer-cnn'\n",
    "## FIXME Find the right image to use, don't want xgboost, want tensorflow but everything was giving access denied\n",
    "container_image_uri = \"811284229777.dkr.ecr.us-east-1.amazonaws.com/xgboost:1\"\n",
    "model_package_response = sagemaker_client.create_model_package(\n",
    "    ModelPackageName=model_package_name,\n",
    "    ModelPackageDescription=\"Version 1 of CNN model\",\n",
    "    InferenceSpecification={\n",
    "    \"Containers\": [\n",
    "        {\n",
    "            \"Image\": container_image_uri,\n",
    "            \"ModelDataUrl\": s3_model_path,\n",
    "        }\n",
    "    ],\n",
    "    \"SupportedContentTypes\": [\"text/csv\"],\n",
    "    \"SupportedResponseMIMETypes\": [\"text/csv\"],\n",
    "    \"SupportedTransformInstanceTypes\": ['ml.m4.xlarge'],\n",
    "    \"SupportedRealtimeInferenceInstanceTypes\": ['ml.t2.xlarge']\n",
    "    }\n",
    ")\n",
    "print(model_package_response)"
   ]
  },
  {
   "cell_type": "code",
   "execution_count": 16,
   "id": "b6e18153-2292-4227-ad4c-11be54f5efb9",
   "metadata": {},
   "outputs": [
    {
     "name": "stdout",
     "output_type": "stream",
     "text": [
      "Model Package Details: {'ModelPackageName': 'v1-basic-fer-cnn', 'ModelPackageArn': 'arn:aws:sagemaker:us-east-1:399018723364:model-package/v1-basic-fer-cnn', 'ModelPackageDescription': 'Version 1 of CNN model', 'CreationTime': datetime.datetime(2025, 2, 2, 23, 25, 0, 251000, tzinfo=tzlocal()), 'InferenceSpecification': {'Containers': [{'Image': '811284229777.dkr.ecr.us-east-1.amazonaws.com/xgboost:1', 'ImageDigest': 'sha256:0c8f830ac408e6dee08445fb60392e9c3f05f790a4b3c07ec22327c08f75bcbf', 'ModelDataUrl': 's3://sagemaker-us-east-1-399018723364/group-5/models/fer_best_model.h5'}], 'SupportedTransformInstanceTypes': ['ml.m4.xlarge'], 'SupportedRealtimeInferenceInstanceTypes': ['ml.t2.xlarge'], 'SupportedContentTypes': ['text/csv'], 'SupportedResponseMIMETypes': ['text/csv']}, 'ModelPackageStatus': 'Completed', 'ModelPackageStatusDetails': {'ValidationStatuses': [], 'ImageScanStatuses': []}, 'CertifyForMarketplace': False, 'CreatedBy': {'UserProfileArn': 'arn:aws:sagemaker:us-east-1:399018723364:user-profile/d-coj0j6t5xpww/kvierczhalek', 'UserProfileName': 'kvierczhalek', 'DomainId': 'd-coj0j6t5xpww', 'IamIdentity': {'Arn': 'arn:aws:sts::399018723364:assumed-role/LabRole/SageMaker', 'PrincipalId': 'AROAVZZ26RASKWFFRC3N6:SageMaker'}}, 'ResponseMetadata': {'RequestId': '2eddd8ec-6045-43ab-a075-a31eb7598af2', 'HTTPStatusCode': 200, 'HTTPHeaders': {'x-amzn-requestid': '2eddd8ec-6045-43ab-a075-a31eb7598af2', 'content-type': 'application/x-amz-json-1.1', 'content-length': '1186', 'date': 'Sun, 02 Feb 2025 23:25:50 GMT'}, 'RetryAttempts': 0}}\n"
     ]
    }
   ],
   "source": [
    "# Describe Model Package\n",
    "describe_model_pacakge_response = sagemaker_client.describe_model_package(\n",
    "    ModelPackageName=model_package_name\n",
    ")\n",
    "\n",
    "print(f\"Model Package Details: {describe_model_pacakge_response}\")"
   ]
  },
  {
   "cell_type": "code",
   "execution_count": 18,
   "id": "71af6d3a-7eb5-422e-888e-30cc3763a0a9",
   "metadata": {},
   "outputs": [
    {
     "name": "stdout",
     "output_type": "stream",
     "text": [
      "Model card created: {'ModelCardArn': 'arn:aws:sagemaker:us-east-1:399018723364:model-card/basic-cnn-model-card', 'ResponseMetadata': {'RequestId': 'a20db295-b1b5-44c3-96c6-bc955fdbf998', 'HTTPStatusCode': 200, 'HTTPHeaders': {'x-amzn-requestid': 'a20db295-b1b5-44c3-96c6-bc955fdbf998', 'content-type': 'application/x-amz-json-1.1', 'content-length': '91', 'date': 'Sun, 02 Feb 2025 23:28:26 GMT'}, 'RetryAttempts': 0}}\n"
     ]
    }
   ],
   "source": [
    "import json\n",
    "model_content = {\n",
    "    \"model_overview\": {\n",
    "        \"model_description\": \"Basic CNN model\",\n",
    "        \"model_creator\": \"Group 5\",\n",
    "        \"model_artifact\": [s3_model_path],\n",
    "        \"algorithm_type\": \"CNN\",\n",
    "    },\n",
    "    \"training_details\": {\n",
    "        \"objective_function\": \"identify malignent masses given input data\",\n",
    "        \"training_observations\": \"35000\",\n",
    "    },\n",
    "}\n",
    "response = sagemaker_client.create_model_card(\n",
    "    ModelCardName=\"basic-cnn-model-card\",\n",
    "    Content=json.dumps(model_content),\n",
    "    ModelCardStatus='Draft',\n",
    ")\n",
    "\n",
    "print(f\"Model card created: {response}\")"
   ]
  },
  {
   "cell_type": "code",
   "execution_count": 19,
   "id": "05b1de08-1d6b-4b27-b5c4-c072068d688e",
   "metadata": {},
   "outputs": [
    {
     "name": "stdout",
     "output_type": "stream",
     "text": [
      "Model Card Details: {'ModelCardArn': 'arn:aws:sagemaker:us-east-1:399018723364:model-card/basic-cnn-model-card', 'ModelCardName': 'basic-cnn-model-card', 'ModelCardVersion': 1, 'Content': '{\"model_overview\": {\"model_description\": \"Basic CNN model\", \"model_creator\": \"Group 5\", \"model_artifact\": [\"s3://sagemaker-us-east-1-399018723364/group-5/models/fer_best_model.h5\"], \"algorithm_type\": \"CNN\"}, \"training_details\": {\"objective_function\": \"identify malignent masses given input data\", \"training_observations\": \"35000\"}}', 'ModelCardStatus': 'Draft', 'CreationTime': datetime.datetime(2025, 2, 2, 23, 28, 26, 621000, tzinfo=tzlocal()), 'CreatedBy': {'UserProfileArn': 'arn:aws:sagemaker:us-east-1:399018723364:user-profile/d-coj0j6t5xpww/kvierczhalek', 'UserProfileName': 'kvierczhalek', 'DomainId': 'd-coj0j6t5xpww'}, 'LastModifiedTime': datetime.datetime(2025, 2, 2, 23, 28, 26, 621000, tzinfo=tzlocal()), 'LastModifiedBy': {'UserProfileArn': 'arn:aws:sagemaker:us-east-1:399018723364:user-profile/d-coj0j6t5xpww/kvierczhalek', 'UserProfileName': 'kvierczhalek', 'DomainId': 'd-coj0j6t5xpww'}, 'ResponseMetadata': {'RequestId': '880f947c-33b4-477f-a13f-1e7a770966b7', 'HTTPStatusCode': 200, 'HTTPHeaders': {'x-amzn-requestid': '880f947c-33b4-477f-a13f-1e7a770966b7', 'content-type': 'application/x-amz-json-1.1', 'content-length': '974', 'date': 'Sun, 02 Feb 2025 23:28:53 GMT'}, 'RetryAttempts': 0}}\n"
     ]
    }
   ],
   "source": [
    "# Describe Model Card (for submission screenshot)\n",
    "describe_model_card_response = sagemaker_client.describe_model_card(\n",
    "    ModelCardName=\"basic-cnn-model-card\"\n",
    ")\n",
    "print(\"Model Card Details:\", describe_model_card_response)"
   ]
  },
  {
   "cell_type": "code",
   "execution_count": null,
   "id": "81995ca9-2a91-4705-884f-e71d3b116db7",
   "metadata": {},
   "outputs": [],
   "source": []
  }
 ],
 "metadata": {
  "kernelspec": {
   "display_name": "Python 3 (ipykernel)",
   "language": "python",
   "name": "python3"
  },
  "language_info": {
   "codemirror_mode": {
    "name": "ipython",
    "version": 3
   },
   "file_extension": ".py",
   "mimetype": "text/x-python",
   "name": "python",
   "nbconvert_exporter": "python",
   "pygments_lexer": "ipython3",
   "version": "3.11.11"
  }
 },
 "nbformat": 4,
 "nbformat_minor": 5
}
